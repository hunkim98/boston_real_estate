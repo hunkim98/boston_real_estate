{
 "cells": [
  {
   "cell_type": "code",
   "execution_count": 3,
   "metadata": {},
   "outputs": [],
   "source": [
    "import numpy as np\n",
    "import pandas as pd\n",
    "import matplotlib.pyplot as plt\n",
    "import seaborn as sns"
   ]
  },
  {
   "cell_type": "code",
   "execution_count": 4,
   "metadata": {},
   "outputs": [],
   "source": [
    "single_family_sales = pd.read_csv(\"data/single_family_sales.csv\")\n",
    "three_family_sales = pd.read_csv(\"data/three_family_sales.csv\")\n",
    "condo_sales = pd.read_csv(\"data/condo_sales.csv\")\n",
    "two_family_sales = pd.read_csv(\"data/two_family_sales.csv\")\n",
    "\n"
   ]
  },
  {
   "cell_type": "code",
   "execution_count": 6,
   "metadata": {},
   "outputs": [
    {
     "name": "stdout",
     "output_type": "stream",
     "text": [
      "[236, 268, 667, 1990]\n"
     ]
    }
   ],
   "source": [
    "all_lengths = [len(single_family_sales), len(three_family_sales), len(condo_sales), len(two_family_sales)]\n",
    "all_lengths.sort()\n",
    "\n",
    "print(all_lengths)\n"
   ]
  },
  {
   "cell_type": "code",
   "execution_count": 14,
   "metadata": {},
   "outputs": [
    {
     "name": "stdout",
     "output_type": "stream",
     "text": [
      "Index(['parcel', 'street_no', 'street_name', 'sale_date', 'sale_price',\n",
      "       'living_area', 'price_per_sf', 'building_style', 'category'],\n",
      "      dtype='object')\n",
      "Index(['parcel', 'street_no', 'street_name', 'sale_date', 'sale_price',\n",
      "       'living_area', 'price_per_sf', 'building_style', 'category'],\n",
      "      dtype='object')\n",
      "Index(['parcel', 'street_no', 'street_name', 'unit', 'sale_date', 'sale_price',\n",
      "       'living_area', 'price_per_sf', 'category'],\n",
      "      dtype='object')\n",
      "Index(['parcel', 'street_no', 'street_name', 'sale_date', 'sale_price',\n",
      "       'living_area', 'price_per_sf', 'building_style', 'category'],\n",
      "      dtype='object')\n",
      "{'sale_date', 'living_area', 'category', 'sale_price', 'parcel', 'price_per_sf', 'street_no', 'street_name'}\n",
      "['sale_date', 'living_area', 'category', 'sale_price', 'parcel', 'price_per_sf', 'street_no', 'street_name']\n"
     ]
    }
   ],
   "source": [
    "# add category column\n",
    "single_family_sales['category'] = 'single_family'\n",
    "three_family_sales['category'] = 'three_family'\n",
    "condo_sales['category'] = 'condo'\n",
    "two_family_sales['category'] = 'two_family'\n",
    "\n",
    "# check if there are any differences between the columns \n",
    "print(single_family_sales.columns)\n",
    "print(three_family_sales.columns)\n",
    "print(condo_sales.columns)\n",
    "print(two_family_sales.columns)\n",
    "\n",
    "# print diff columns \n",
    "# find overlapping columns\n",
    "overlapping_columns = set(single_family_sales.columns) & set(three_family_sales.columns) & set(condo_sales.columns) & set(two_family_sales.columns)\n",
    "print(overlapping_columns)\n",
    "\n",
    "overlapping_columns = list(overlapping_columns)\n",
    "# merge the overlapping columns\n",
    "# merged_sales = pd.concat([single_family_sales[overlapping_columns], three_family_sales[overlapping_columns], condo_sales[overlapping_columns], two_family_sales[overlapping_columns]])\n",
    "\n",
    "print(overlapping_columns)\n",
    "# save the merged sales\n",
    "merged_sales = pd.concat([\n",
    "    single_family_sales[overlapping_columns],\n",
    "    three_family_sales[overlapping_columns],\n",
    "    condo_sales[overlapping_columns],\n",
    "    two_family_sales[overlapping_columns]\n",
    "], ignore_index=True)\n",
    "\n",
    "# save\n",
    "merged_sales.to_csv(\"data/merged_sales.csv\", index=False)\n",
    "\n",
    "\n",
    "\n"
   ]
  },
  {
   "cell_type": "code",
   "execution_count": null,
   "metadata": {},
   "outputs": [],
   "source": []
  }
 ],
 "metadata": {
  "kernelspec": {
   "display_name": ".venv",
   "language": "python",
   "name": "python3"
  },
  "language_info": {
   "codemirror_mode": {
    "name": "ipython",
    "version": 3
   },
   "file_extension": ".py",
   "mimetype": "text/x-python",
   "name": "python",
   "nbconvert_exporter": "python",
   "pygments_lexer": "ipython3",
   "version": "3.11.5"
  }
 },
 "nbformat": 4,
 "nbformat_minor": 2
}
