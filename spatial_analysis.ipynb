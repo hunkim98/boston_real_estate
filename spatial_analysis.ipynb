{
 "cells": [
  {
   "cell_type": "code",
   "execution_count": 1,
   "metadata": {},
   "outputs": [],
   "source": [
    "import numpy as np\n",
    "import matplotlib.pyplot as plt\n",
    "import pandas as pd"
   ]
  },
  {
   "cell_type": "code",
   "execution_count": 2,
   "metadata": {},
   "outputs": [
    {
     "name": "stderr",
     "output_type": "stream",
     "text": [
      "/var/folders/wy/50c5sv7n4wsfhhww_wwjz2tr0000gn/T/ipykernel_6936/3517134994.py:1: DtypeWarning: Columns (65) have mixed types. Specify dtype option on import or set low_memory=False.\n",
      "  data_21 = pd.read_csv(\"data/parcels_21.csv\")\n",
      "/var/folders/wy/50c5sv7n4wsfhhww_wwjz2tr0000gn/T/ipykernel_6936/3517134994.py:2: DtypeWarning: Columns (20,65) have mixed types. Specify dtype option on import or set low_memory=False.\n",
      "  data_24 = pd.read_csv(\"data/parcels_24.csv\")\n"
     ]
    }
   ],
   "source": [
    "data_21 = pd.read_csv(\"data/parcels_21.csv\")\n",
    "data_24 = pd.read_csv(\"data/parcels_24.csv\")"
   ]
  },
  {
   "cell_type": "code",
   "execution_count": 3,
   "metadata": {},
   "outputs": [
    {
     "data": {
      "text/html": [
       "<div>\n",
       "<style scoped>\n",
       "    .dataframe tbody tr th:only-of-type {\n",
       "        vertical-align: middle;\n",
       "    }\n",
       "\n",
       "    .dataframe tbody tr th {\n",
       "        vertical-align: top;\n",
       "    }\n",
       "\n",
       "    .dataframe thead th {\n",
       "        text-align: right;\n",
       "    }\n",
       "</style>\n",
       "<table border=\"1\" class=\"dataframe\">\n",
       "  <thead>\n",
       "    <tr style=\"text-align: right;\">\n",
       "      <th></th>\n",
       "      <th>PID</th>\n",
       "      <th>CM_ID</th>\n",
       "      <th>GIS_ID</th>\n",
       "      <th>UNIT_NUM</th>\n",
       "      <th>ZIPCODE</th>\n",
       "      <th>BLDG_SEQ</th>\n",
       "      <th>NUM_BLDGS</th>\n",
       "      <th>PTYPE</th>\n",
       "      <th>RES_FLOOR</th>\n",
       "      <th>CD_FLOOR</th>\n",
       "      <th>...</th>\n",
       "      <th>NEAR_DIST_Farmers_Market</th>\n",
       "      <th>NEAR_FID_Music_Venue</th>\n",
       "      <th>NEAR_DIST_Music_Venue</th>\n",
       "      <th>NEAR_FID_Landmark</th>\n",
       "      <th>NEAR_DIST_Landmark</th>\n",
       "      <th>NEAR_FID_library</th>\n",
       "      <th>NEAR_DIST_library</th>\n",
       "      <th>MEAN_LTS_New</th>\n",
       "      <th>NOISE_INCIDENT_CNT</th>\n",
       "      <th>RESTAURANT_CNT</th>\n",
       "    </tr>\n",
       "  </thead>\n",
       "  <tbody>\n",
       "    <tr>\n",
       "      <th>count</th>\n",
       "      <td>1.532590e+05</td>\n",
       "      <td>7.749400e+04</td>\n",
       "      <td>1.532590e+05</td>\n",
       "      <td>4.736200e+04</td>\n",
       "      <td>153259.000000</td>\n",
       "      <td>153209.000000</td>\n",
       "      <td>153209.000000</td>\n",
       "      <td>153259.000000</td>\n",
       "      <td>146118.000000</td>\n",
       "      <td>59620.000000</td>\n",
       "      <td>...</td>\n",
       "      <td>153259.000000</td>\n",
       "      <td>153259.000000</td>\n",
       "      <td>153259.000000</td>\n",
       "      <td>153259.000000</td>\n",
       "      <td>153259.000000</td>\n",
       "      <td>153259.000000</td>\n",
       "      <td>153259.000000</td>\n",
       "      <td>153259.000000</td>\n",
       "      <td>149501.000000</td>\n",
       "      <td>144181.000000</td>\n",
       "    </tr>\n",
       "    <tr>\n",
       "      <th>mean</th>\n",
       "      <td>1.183899e+09</td>\n",
       "      <td>9.543166e+08</td>\n",
       "      <td>1.183900e+09</td>\n",
       "      <td>8.767359e+03</td>\n",
       "      <td>2130.125298</td>\n",
       "      <td>1.001214</td>\n",
       "      <td>1.010371</td>\n",
       "      <td>160.482778</td>\n",
       "      <td>1.926132</td>\n",
       "      <td>3.923834</td>\n",
       "      <td>...</td>\n",
       "      <td>898.574919</td>\n",
       "      <td>22.520446</td>\n",
       "      <td>2298.818966</td>\n",
       "      <td>23.502587</td>\n",
       "      <td>1537.743523</td>\n",
       "      <td>14.188478</td>\n",
       "      <td>771.388633</td>\n",
       "      <td>2.617146</td>\n",
       "      <td>16.644009</td>\n",
       "      <td>36.215112</td>\n",
       "    </tr>\n",
       "    <tr>\n",
       "      <th>std</th>\n",
       "      <td>7.078054e+08</td>\n",
       "      <td>6.974309e+08</td>\n",
       "      <td>7.078063e+08</td>\n",
       "      <td>1.858242e+06</td>\n",
       "      <td>31.917560</td>\n",
       "      <td>0.037179</td>\n",
       "      <td>0.233098</td>\n",
       "      <td>220.872197</td>\n",
       "      <td>1.252354</td>\n",
       "      <td>5.389555</td>\n",
       "      <td>...</td>\n",
       "      <td>625.676944</td>\n",
       "      <td>9.748791</td>\n",
       "      <td>1779.305192</td>\n",
       "      <td>8.708020</td>\n",
       "      <td>1038.346789</td>\n",
       "      <td>7.778092</td>\n",
       "      <td>467.300551</td>\n",
       "      <td>0.206774</td>\n",
       "      <td>13.984707</td>\n",
       "      <td>49.961666</td>\n",
       "    </tr>\n",
       "    <tr>\n",
       "      <th>min</th>\n",
       "      <td>1.000010e+08</td>\n",
       "      <td>1.000190e+08</td>\n",
       "      <td>1.000010e+08</td>\n",
       "      <td>0.000000e+00</td>\n",
       "      <td>2026.000000</td>\n",
       "      <td>1.000000</td>\n",
       "      <td>1.000000</td>\n",
       "      <td>13.000000</td>\n",
       "      <td>1.000000</td>\n",
       "      <td>1.000000</td>\n",
       "      <td>...</td>\n",
       "      <td>0.000000</td>\n",
       "      <td>1.000000</td>\n",
       "      <td>0.000000</td>\n",
       "      <td>1.000000</td>\n",
       "      <td>0.000000</td>\n",
       "      <td>1.000000</td>\n",
       "      <td>8.418117</td>\n",
       "      <td>1.887500</td>\n",
       "      <td>1.000000</td>\n",
       "      <td>1.000000</td>\n",
       "    </tr>\n",
       "    <tr>\n",
       "      <th>25%</th>\n",
       "      <td>5.025981e+08</td>\n",
       "      <td>4.008410e+08</td>\n",
       "      <td>5.025980e+08</td>\n",
       "      <td>2.000000e+00</td>\n",
       "      <td>2120.000000</td>\n",
       "      <td>1.000000</td>\n",
       "      <td>1.000000</td>\n",
       "      <td>102.000000</td>\n",
       "      <td>1.000000</td>\n",
       "      <td>2.000000</td>\n",
       "      <td>...</td>\n",
       "      <td>468.242043</td>\n",
       "      <td>13.000000</td>\n",
       "      <td>712.724759</td>\n",
       "      <td>20.000000</td>\n",
       "      <td>724.740281</td>\n",
       "      <td>8.000000</td>\n",
       "      <td>427.898254</td>\n",
       "      <td>2.472000</td>\n",
       "      <td>6.000000</td>\n",
       "      <td>7.000000</td>\n",
       "    </tr>\n",
       "    <tr>\n",
       "      <th>50%</th>\n",
       "      <td>1.300151e+09</td>\n",
       "      <td>6.030820e+08</td>\n",
       "      <td>1.300151e+09</td>\n",
       "      <td>4.000000e+00</td>\n",
       "      <td>2127.000000</td>\n",
       "      <td>1.000000</td>\n",
       "      <td>1.000000</td>\n",
       "      <td>102.000000</td>\n",
       "      <td>2.000000</td>\n",
       "      <td>3.000000</td>\n",
       "      <td>...</td>\n",
       "      <td>752.075233</td>\n",
       "      <td>27.000000</td>\n",
       "      <td>1892.678713</td>\n",
       "      <td>27.000000</td>\n",
       "      <td>1276.849540</td>\n",
       "      <td>14.000000</td>\n",
       "      <td>691.251650</td>\n",
       "      <td>2.614458</td>\n",
       "      <td>12.000000</td>\n",
       "      <td>16.000000</td>\n",
       "    </tr>\n",
       "    <tr>\n",
       "      <th>75%</th>\n",
       "      <td>1.812670e+09</td>\n",
       "      <td>1.700924e+09</td>\n",
       "      <td>1.812670e+09</td>\n",
       "      <td>1.250000e+02</td>\n",
       "      <td>2131.000000</td>\n",
       "      <td>1.000000</td>\n",
       "      <td>1.000000</td>\n",
       "      <td>104.000000</td>\n",
       "      <td>2.500000</td>\n",
       "      <td>4.000000</td>\n",
       "      <td>...</td>\n",
       "      <td>1164.782525</td>\n",
       "      <td>31.000000</td>\n",
       "      <td>3526.607464</td>\n",
       "      <td>30.000000</td>\n",
       "      <td>2215.917086</td>\n",
       "      <td>21.000000</td>\n",
       "      <td>1019.288097</td>\n",
       "      <td>2.733333</td>\n",
       "      <td>25.000000</td>\n",
       "      <td>40.000000</td>\n",
       "    </tr>\n",
       "    <tr>\n",
       "      <th>max</th>\n",
       "      <td>2.205668e+09</td>\n",
       "      <td>2.205665e+09</td>\n",
       "      <td>2.205668e+09</td>\n",
       "      <td>4.044054e+08</td>\n",
       "      <td>2467.000000</td>\n",
       "      <td>4.000000</td>\n",
       "      <td>47.000000</td>\n",
       "      <td>995.000000</td>\n",
       "      <td>62.000000</td>\n",
       "      <td>60.000000</td>\n",
       "      <td>...</td>\n",
       "      <td>4423.573590</td>\n",
       "      <td>38.000000</td>\n",
       "      <td>8544.366153</td>\n",
       "      <td>34.000000</td>\n",
       "      <td>4693.378075</td>\n",
       "      <td>27.000000</td>\n",
       "      <td>5505.020716</td>\n",
       "      <td>3.340909</td>\n",
       "      <td>80.000000</td>\n",
       "      <td>317.000000</td>\n",
       "    </tr>\n",
       "  </tbody>\n",
       "</table>\n",
       "<p>8 rows × 53 columns</p>\n",
       "</div>"
      ],
      "text/plain": [
       "                PID         CM_ID        GIS_ID      UNIT_NUM        ZIPCODE  \\\n",
       "count  1.532590e+05  7.749400e+04  1.532590e+05  4.736200e+04  153259.000000   \n",
       "mean   1.183899e+09  9.543166e+08  1.183900e+09  8.767359e+03    2130.125298   \n",
       "std    7.078054e+08  6.974309e+08  7.078063e+08  1.858242e+06      31.917560   \n",
       "min    1.000010e+08  1.000190e+08  1.000010e+08  0.000000e+00    2026.000000   \n",
       "25%    5.025981e+08  4.008410e+08  5.025980e+08  2.000000e+00    2120.000000   \n",
       "50%    1.300151e+09  6.030820e+08  1.300151e+09  4.000000e+00    2127.000000   \n",
       "75%    1.812670e+09  1.700924e+09  1.812670e+09  1.250000e+02    2131.000000   \n",
       "max    2.205668e+09  2.205665e+09  2.205668e+09  4.044054e+08    2467.000000   \n",
       "\n",
       "            BLDG_SEQ      NUM_BLDGS          PTYPE      RES_FLOOR  \\\n",
       "count  153209.000000  153209.000000  153259.000000  146118.000000   \n",
       "mean        1.001214       1.010371     160.482778       1.926132   \n",
       "std         0.037179       0.233098     220.872197       1.252354   \n",
       "min         1.000000       1.000000      13.000000       1.000000   \n",
       "25%         1.000000       1.000000     102.000000       1.000000   \n",
       "50%         1.000000       1.000000     102.000000       2.000000   \n",
       "75%         1.000000       1.000000     104.000000       2.500000   \n",
       "max         4.000000      47.000000     995.000000      62.000000   \n",
       "\n",
       "           CD_FLOOR  ...  NEAR_DIST_Farmers_Market  NEAR_FID_Music_Venue  \\\n",
       "count  59620.000000  ...             153259.000000         153259.000000   \n",
       "mean       3.923834  ...                898.574919             22.520446   \n",
       "std        5.389555  ...                625.676944              9.748791   \n",
       "min        1.000000  ...                  0.000000              1.000000   \n",
       "25%        2.000000  ...                468.242043             13.000000   \n",
       "50%        3.000000  ...                752.075233             27.000000   \n",
       "75%        4.000000  ...               1164.782525             31.000000   \n",
       "max       60.000000  ...               4423.573590             38.000000   \n",
       "\n",
       "       NEAR_DIST_Music_Venue  NEAR_FID_Landmark  NEAR_DIST_Landmark  \\\n",
       "count          153259.000000      153259.000000       153259.000000   \n",
       "mean             2298.818966          23.502587         1537.743523   \n",
       "std              1779.305192           8.708020         1038.346789   \n",
       "min                 0.000000           1.000000            0.000000   \n",
       "25%               712.724759          20.000000          724.740281   \n",
       "50%              1892.678713          27.000000         1276.849540   \n",
       "75%              3526.607464          30.000000         2215.917086   \n",
       "max              8544.366153          34.000000         4693.378075   \n",
       "\n",
       "       NEAR_FID_library  NEAR_DIST_library   MEAN_LTS_New  NOISE_INCIDENT_CNT  \\\n",
       "count     153259.000000      153259.000000  153259.000000       149501.000000   \n",
       "mean          14.188478         771.388633       2.617146           16.644009   \n",
       "std            7.778092         467.300551       0.206774           13.984707   \n",
       "min            1.000000           8.418117       1.887500            1.000000   \n",
       "25%            8.000000         427.898254       2.472000            6.000000   \n",
       "50%           14.000000         691.251650       2.614458           12.000000   \n",
       "75%           21.000000        1019.288097       2.733333           25.000000   \n",
       "max           27.000000        5505.020716       3.340909           80.000000   \n",
       "\n",
       "       RESTAURANT_CNT  \n",
       "count   144181.000000  \n",
       "mean        36.215112  \n",
       "std         49.961666  \n",
       "min          1.000000  \n",
       "25%          7.000000  \n",
       "50%         16.000000  \n",
       "75%         40.000000  \n",
       "max        317.000000  \n",
       "\n",
       "[8 rows x 53 columns]"
      ]
     },
     "execution_count": 3,
     "metadata": {},
     "output_type": "execute_result"
    }
   ],
   "source": [
    "data_21.describe()"
   ]
  },
  {
   "cell_type": "code",
   "execution_count": 4,
   "metadata": {},
   "outputs": [],
   "source": [
    "data_21[\"PID\"] = data_21[\"PID\"].astype(int)\n",
    "data_24[\"PID\"] = data_24[\"PID\"].astype(int)\n"
   ]
  },
  {
   "cell_type": "code",
   "execution_count": 5,
   "metadata": {},
   "outputs": [
    {
     "data": {
      "text/plain": [
       "Index(['PID', 'CM_ID', 'GIS_ID', 'ST_NUM', 'ST_NAME', 'UNIT_NUM', 'CITY',\n",
       "       'ZIPCODE', 'BLDG_SEQ', 'NUM_BLDGS', 'PTYPE', 'LU', 'PTYPE_DESC',\n",
       "       'BLDG_TYPE', 'OWN_OCC', 'OWNER', 'MAIL_ADDRESSEE', 'MAIL_ADDRESS',\n",
       "       'MAIL_CITY', 'MAIL_STATE', 'MAIL_ZIPCODE', 'RES_FLOOR', 'CD_FLOOR',\n",
       "       'RES_UNITS', 'COM_UNITS', 'LAND_SF', 'GROSS_AREA', 'LIVING_AREA',\n",
       "       'LAND_VALUE', 'BLDG_VALUE', 'TOTAL_VALUE', 'GROSS_TAX', 'YR_BUILT',\n",
       "       'YR_REMODEL', 'STRUCTURE_CLASS', 'ROOF_STRUCTURE', 'ROOF_COVER',\n",
       "       'INT_WALL', 'EXT_FINISHED', 'INT_COND', 'EXT_COND', 'OVERALL_COND',\n",
       "       'BED_RMS', 'FULL_BTH', 'HLF_BTH', 'KITCHEN', 'TT_RMS', 'BDRM_COND',\n",
       "       'BTHRM_STYLE1', 'BTHRM_STYLE2', 'BTHRM_STYLE3', 'KITCHEN_TYPE',\n",
       "       'KITCHEN_STYLE1', 'KITCHEN_STYLE2', 'KITCHEN_STYLE3', 'HEAT_TYPE',\n",
       "       'HEAT_FUEL', 'AC_TYPE', 'FIRE_PLACE', 'PLUMBING', 'NUM_PARKING',\n",
       "       'PROP_VIEW', 'CORNER_UNIT', 'parcels_21_prelim_OBJECTID', 'MAP_PAR_ID',\n",
       "       'BPDA_Name', 'LU_DESC', 'Address', 'Shape_Length', 'Shape_Area',\n",
       "       'NEAR_FID_Community_Garden', 'NEAR_DIST_Community_Garden',\n",
       "       'NEAR_FID_Cemetries_Burying', 'NEAR_DIST_Cemetries_Burying',\n",
       "       'NEAR_FID_Parks_Playground', 'NEAR_DIST_Parks_Playground',\n",
       "       'NEAR_FID_Parkways_Beaches', 'NEAR_DIST_Parkways_Beaches',\n",
       "       'NEAR_FID_Mall_Squares', 'NEAR_DIST_Mall_Squares',\n",
       "       'NEAR_FID_Farmers_Market', 'NEAR_DIST_Farmers_Market',\n",
       "       'NEAR_FID_Music_Venue', 'NEAR_DIST_Music_Venue', 'NEAR_FID_Landmark',\n",
       "       'NEAR_DIST_Landmark', 'NEAR_FID_library', 'NEAR_DIST_library',\n",
       "       'MEAN_LTS_New', 'NOISE_INCIDENT_CNT', 'RESTAURANT_CNT'],\n",
       "      dtype='object')"
      ]
     },
     "execution_count": 5,
     "metadata": {},
     "output_type": "execute_result"
    }
   ],
   "source": [
    "data_21.columns"
   ]
  },
  {
   "cell_type": "code",
   "execution_count": 6,
   "metadata": {},
   "outputs": [
    {
     "data": {
      "text/plain": [
       "array(['R3', 'R2', 'CM', 'CD', 'R1', 'R4', 'RC', 'RL', 'A'], dtype=object)"
      ]
     },
     "execution_count": 6,
     "metadata": {},
     "output_type": "execute_result"
    }
   ],
   "source": [
    "data_21[\"LU\"].unique()"
   ]
  },
  {
   "cell_type": "code",
   "execution_count": 7,
   "metadata": {},
   "outputs": [],
   "source": [
    "data_21[\"TOTAL_VALUE\"]\n",
    "# Drop rows with empty building values\n",
    "data_21 = data_21.dropna(subset=['TOTAL_VALUE'])\n"
   ]
  },
  {
   "cell_type": "code",
   "execution_count": 8,
   "metadata": {},
   "outputs": [
    {
     "data": {
      "text/plain": [
       "np.int64(0)"
      ]
     },
     "execution_count": 8,
     "metadata": {},
     "output_type": "execute_result"
    }
   ],
   "source": [
    "# count null values\n",
    "data_21[\"TOTAL_VALUE\"].isnull().sum()"
   ]
  },
  {
   "cell_type": "code",
   "execution_count": 9,
   "metadata": {},
   "outputs": [
    {
     "name": "stdout",
     "output_type": "stream",
     "text": [
      "143085\n",
      "144021\n",
      "130578\n"
     ]
    }
   ],
   "source": [
    "intersecting_ids = set(data_21[\"PID\"]) & set(data_24[\"PID\"])\n",
    "\n",
    "print(data_21[\"PID\"].nunique())\n",
    "print(data_24[\"PID\"].nunique())\n",
    "print(len(intersecting_ids))"
   ]
  },
  {
   "cell_type": "code",
   "execution_count": 10,
   "metadata": {},
   "outputs": [],
   "source": [
    "# we will get the bld_value of the 2024 data and add column to the data\n",
    "# First filter data_24 to get matching PIDs, then map values using PID as key\n",
    "data = data_21[data_21[\"PID\"].isin(intersecting_ids)].copy()  # Use copy() to avoid SettingWithCopyWarning\n",
    "\n",
    "# Create a mapping dictionary from data_24\n",
    "value_map = data_24[data_24[\"PID\"].isin(intersecting_ids)].set_index(\"PID\")[\"TOTAL_VALUE\"].to_dict()\n",
    "\n",
    "\n",
    "inflation_2021 = 0.0470  # 4.70%\n",
    "inflation_2022 = 0.0800  # 8.00%\n",
    "inflation_2023 = 0.0412  # 4.12%\n",
    "\n",
    "\n",
    "\n",
    "# Map the values using the dictionary\n",
    "data[\"TOTAL_VALUE_2024\"] = data[\"PID\"].map(value_map)\n",
    "\n"
   ]
  },
  {
   "cell_type": "code",
   "execution_count": 11,
   "metadata": {},
   "outputs": [],
   "source": [
    "# drop bldg value that are 0\n",
    "data = data[data[\"TOTAL_VALUE\"] != 0]\n",
    "data = data[data[\"TOTAL_VALUE_2024\"] != 0]\n"
   ]
  },
  {
   "cell_type": "code",
   "execution_count": 12,
   "metadata": {},
   "outputs": [
    {
     "name": "stdout",
     "output_type": "stream",
     "text": [
      "Cumulative inflation 2021-2024: 17.73%\n",
      "\n",
      "Value Change Summary:\n",
      "       NOMINAL_INCREASE_PERCENT  REAL_INCREASE_PERCENT\n",
      "count             129915.000000          129915.000000\n",
      "mean                  13.991115              -3.179705\n",
      "std                   47.979192              40.751944\n",
      "min                  -81.979784             -84.694222\n",
      "25%                    7.029040              -9.093061\n",
      "50%                   11.505508              -5.290897\n",
      "75%                   19.002375               1.076695\n",
      "max                12266.666667           10403.839046\n"
     ]
    }
   ],
   "source": [
    "cumulative_inflation = (1 + inflation_2021) * (1 + inflation_2022) * (1 + inflation_2023)\n",
    "\n",
    "data[\"TOTAL_VALUE_2024_2021_DOLLARS\"] = data[\"TOTAL_VALUE_2024\"] / cumulative_inflation\n",
    "\n",
    "data[\"NOMINAL_INCREASE\"] = data[\"TOTAL_VALUE_2024\"] - data[\"TOTAL_VALUE\"] \n",
    "data[\"REAL_INCREASE\"] = data[\"TOTAL_VALUE_2024_2021_DOLLARS\"] - data[\"TOTAL_VALUE\"]\n",
    "\n",
    "data[\"NOMINAL_INCREASE_PERCENT\"] = (data[\"NOMINAL_INCREASE\"] / data[\"TOTAL_VALUE\"]) * 100\n",
    "data[\"REAL_INCREASE_PERCENT\"] = (data[\"REAL_INCREASE\"] / data[\"TOTAL_VALUE\"]) * 100\n",
    "\n",
    "print(f\"Cumulative inflation 2021-2024: {(cumulative_inflation - 1) * 100:.2f}%\")\n",
    "print(\"\\nValue Change Summary:\")\n",
    "summary = data[[\"NOMINAL_INCREASE_PERCENT\", \"REAL_INCREASE_PERCENT\"]].describe()\n",
    "print(summary)"
   ]
  },
  {
   "cell_type": "code",
   "execution_count": 13,
   "metadata": {},
   "outputs": [
    {
     "name": "stdout",
     "output_type": "stream",
     "text": [
      "\n",
      "Properties with Real Value Increases:\n",
      "Count: 38231 (29.4% of properties)\n",
      "\n",
      "Summary of Real Increases for Properties with Gains:\n",
      "count    38231.000000\n",
      "mean         8.274872\n",
      "std         73.442768\n",
      "min          0.000265\n",
      "25%          2.097935\n",
      "50%          4.318341\n",
      "75%          7.021903\n",
      "max      10403.839046\n",
      "Name: REAL_INCREASE_PERCENT, dtype: float64\n"
     ]
    }
   ],
   "source": [
    "# Filter for properties with positive real value increases\n",
    "positive_real_increases = data[data[\"REAL_INCREASE\"] >= 0]\n",
    "\n",
    "print(\"\\nProperties with Real Value Increases:\")\n",
    "print(f\"Count: {len(positive_real_increases)} ({(len(positive_real_increases)/len(data))*100:.1f}% of properties)\")\n",
    "print(\"\\nSummary of Real Increases for Properties with Gains:\")\n",
    "print(positive_real_increases[\"REAL_INCREASE_PERCENT\"].describe())\n"
   ]
  },
  {
   "cell_type": "code",
   "execution_count": 14,
   "metadata": {},
   "outputs": [
    {
     "name": "stdout",
     "output_type": "stream",
     "text": [
      "0\n",
      "0\n"
     ]
    }
   ],
   "source": [
    "# count null building values\n",
    "print(data[\"TOTAL_VALUE\"].isna().sum())  \n",
    "print(data[\"TOTAL_VALUE_2024\"].isna().sum())"
   ]
  },
  {
   "cell_type": "code",
   "execution_count": 15,
   "metadata": {},
   "outputs": [
    {
     "name": "stdout",
     "output_type": "stream",
     "text": [
      "\n",
      "Properties with Real Value Increases:\n",
      "Count: 91684 (70.6% of properties)\n",
      "\n",
      "Summary of Real Increases for Properties with Gains:\n",
      "count    91684.000000\n",
      "mean        -7.956109\n",
      "std          5.155140\n",
      "min        -84.694222\n",
      "25%        -10.707905\n",
      "50%         -8.098339\n",
      "75%         -4.444084\n",
      "max         -0.000098\n",
      "Name: REAL_INCREASE_PERCENT, dtype: float64\n"
     ]
    }
   ],
   "source": [
    "negative_real_increases = data[data[\"REAL_INCREASE\"] < 0]\n",
    "\n",
    "print(\"\\nProperties with Real Value Increases:\")\n",
    "print(f\"Count: {len(negative_real_increases)} ({(len(negative_real_increases)/len(data))*100:.1f}% of properties)\")\n",
    "print(\"\\nSummary of Real Increases for Properties with Gains:\")\n",
    "print(negative_real_increases[\"REAL_INCREASE_PERCENT\"].describe())\n"
   ]
  },
  {
   "cell_type": "code",
   "execution_count": 16,
   "metadata": {},
   "outputs": [
    {
     "data": {
      "text/html": [
       "<div>\n",
       "<style scoped>\n",
       "    .dataframe tbody tr th:only-of-type {\n",
       "        vertical-align: middle;\n",
       "    }\n",
       "\n",
       "    .dataframe tbody tr th {\n",
       "        vertical-align: top;\n",
       "    }\n",
       "\n",
       "    .dataframe thead th {\n",
       "        text-align: right;\n",
       "    }\n",
       "</style>\n",
       "<table border=\"1\" class=\"dataframe\">\n",
       "  <thead>\n",
       "    <tr style=\"text-align: right;\">\n",
       "      <th></th>\n",
       "      <th>TOTAL_VALUE</th>\n",
       "      <th>TOTAL_VALUE_2024</th>\n",
       "      <th>REAL_INCREASE</th>\n",
       "      <th>REAL_INCREASE_PERCENT</th>\n",
       "      <th>PID</th>\n",
       "      <th>LU</th>\n",
       "    </tr>\n",
       "  </thead>\n",
       "  <tbody>\n",
       "    <tr>\n",
       "      <th>59631</th>\n",
       "      <td>2295200.0</td>\n",
       "      <td>413600.0</td>\n",
       "      <td>-1.943902e+06</td>\n",
       "      <td>-84.694222</td>\n",
       "      <td>801549004</td>\n",
       "      <td>CD</td>\n",
       "    </tr>\n",
       "    <tr>\n",
       "      <th>94705</th>\n",
       "      <td>1360200.0</td>\n",
       "      <td>284000.0</td>\n",
       "      <td>-1.118980e+06</td>\n",
       "      <td>-82.265826</td>\n",
       "      <td>1701569000</td>\n",
       "      <td>R3</td>\n",
       "    </tr>\n",
       "    <tr>\n",
       "      <th>84364</th>\n",
       "      <td>1064300.0</td>\n",
       "      <td>231524.0</td>\n",
       "      <td>-8.676511e+05</td>\n",
       "      <td>-81.523174</td>\n",
       "      <td>1501266000</td>\n",
       "      <td>R3</td>\n",
       "    </tr>\n",
       "    <tr>\n",
       "      <th>152278</th>\n",
       "      <td>879600.0</td>\n",
       "      <td>197800.0</td>\n",
       "      <td>-7.115952e+05</td>\n",
       "      <td>-80.899864</td>\n",
       "      <td>602642138</td>\n",
       "      <td>CD</td>\n",
       "    </tr>\n",
       "    <tr>\n",
       "      <th>43541</th>\n",
       "      <td>907900.0</td>\n",
       "      <td>220700.0</td>\n",
       "      <td>-7.204447e+05</td>\n",
       "      <td>-79.352869</td>\n",
       "      <td>600030016</td>\n",
       "      <td>CD</td>\n",
       "    </tr>\n",
       "    <tr>\n",
       "      <th>43537</th>\n",
       "      <td>890600.0</td>\n",
       "      <td>220700.0</td>\n",
       "      <td>-7.031447e+05</td>\n",
       "      <td>-78.951796</td>\n",
       "      <td>600030008</td>\n",
       "      <td>CD</td>\n",
       "    </tr>\n",
       "    <tr>\n",
       "      <th>152308</th>\n",
       "      <td>1039600.0</td>\n",
       "      <td>263800.0</td>\n",
       "      <td>-8.155370e+05</td>\n",
       "      <td>-78.447189</td>\n",
       "      <td>602642168</td>\n",
       "      <td>CD</td>\n",
       "    </tr>\n",
       "    <tr>\n",
       "      <th>45463</th>\n",
       "      <td>809800.0</td>\n",
       "      <td>211800.0</td>\n",
       "      <td>-6.299041e+05</td>\n",
       "      <td>-77.785140</td>\n",
       "      <td>601153014</td>\n",
       "      <td>CD</td>\n",
       "    </tr>\n",
       "    <tr>\n",
       "      <th>7740</th>\n",
       "      <td>870300.0</td>\n",
       "      <td>231969.0</td>\n",
       "      <td>-6.732732e+05</td>\n",
       "      <td>-77.361045</td>\n",
       "      <td>106807020</td>\n",
       "      <td>R3</td>\n",
       "    </tr>\n",
       "    <tr>\n",
       "      <th>45466</th>\n",
       "      <td>761600.0</td>\n",
       "      <td>213300.0</td>\n",
       "      <td>-5.804300e+05</td>\n",
       "      <td>-76.211924</td>\n",
       "      <td>601153020</td>\n",
       "      <td>CD</td>\n",
       "    </tr>\n",
       "  </tbody>\n",
       "</table>\n",
       "</div>"
      ],
      "text/plain": [
       "        TOTAL_VALUE  TOTAL_VALUE_2024  REAL_INCREASE  REAL_INCREASE_PERCENT  \\\n",
       "59631     2295200.0          413600.0  -1.943902e+06             -84.694222   \n",
       "94705     1360200.0          284000.0  -1.118980e+06             -82.265826   \n",
       "84364     1064300.0          231524.0  -8.676511e+05             -81.523174   \n",
       "152278     879600.0          197800.0  -7.115952e+05             -80.899864   \n",
       "43541      907900.0          220700.0  -7.204447e+05             -79.352869   \n",
       "43537      890600.0          220700.0  -7.031447e+05             -78.951796   \n",
       "152308    1039600.0          263800.0  -8.155370e+05             -78.447189   \n",
       "45463      809800.0          211800.0  -6.299041e+05             -77.785140   \n",
       "7740       870300.0          231969.0  -6.732732e+05             -77.361045   \n",
       "45466      761600.0          213300.0  -5.804300e+05             -76.211924   \n",
       "\n",
       "               PID  LU  \n",
       "59631    801549004  CD  \n",
       "94705   1701569000  R3  \n",
       "84364   1501266000  R3  \n",
       "152278   602642138  CD  \n",
       "43541    600030016  CD  \n",
       "43537    600030008  CD  \n",
       "152308   602642168  CD  \n",
       "45463    601153014  CD  \n",
       "7740     106807020  R3  \n",
       "45466    601153020  CD  "
      ]
     },
     "execution_count": 16,
     "metadata": {},
     "output_type": "execute_result"
    }
   ],
   "source": [
    "# sort the negative real increases by the absolute value of the real increase\n",
    "negative_real_increases = negative_real_increases.sort_values(by=\"REAL_INCREASE_PERCENT\", ascending=True)\n",
    "# print the top 10\n",
    "negative_real_increases[[\"TOTAL_VALUE\", \"TOTAL_VALUE_2024\", \"REAL_INCREASE\", \"REAL_INCREASE_PERCENT\", \"PID\", \"LU\"]].head(10)\n",
    "# print the bottom 10\n",
    "# print(negative_real_increases.tail(10))\n"
   ]
  },
  {
   "cell_type": "code",
   "execution_count": 148,
   "metadata": {},
   "outputs": [],
   "source": [
    "# save the data\n",
    "data.to_csv(\"data/parcels_intersecting.csv\", index=False)\n",
    "\n"
   ]
  },
  {
   "cell_type": "code",
   "execution_count": 18,
   "metadata": {},
   "outputs": [
    {
     "name": "stdout",
     "output_type": "stream",
     "text": [
      "['NOISE_INCIDENT_CNT', 'RESTAURANT_CNT']\n"
     ]
    }
   ],
   "source": [
    "# Cehck any null among x_columns\n",
    "X_columns = [\"NEAR_DIST_Community_Garden\", \"NEAR_DIST_Cemetries_Burying\", \\\n",
    "    \"NEAR_DIST_Parks_Playground\", \"NEAR_DIST_Parkways_Beaches\", \\\n",
    "    \"NEAR_DIST_Mall_Squares\", \"NEAR_DIST_Farmers_Market\", \\\n",
    "    \"NEAR_DIST_Music_Venue\", \"NEAR_DIST_Landmark\", \\\n",
    "    \"NEAR_DIST_library\", \"MEAN_LTS_New\",\n",
    "    \"NOISE_INCIDENT_CNT\", \"RESTAURANT_CNT\"]\n",
    "\n",
    "X_columns_null = [col for col in X_columns if data[col].isnull().any()]\n",
    "print(X_columns_null)\n",
    "\n",
    "# fill in the null values with 0\n",
    "data[X_columns_null] = data[X_columns_null].fillna(0)\n"
   ]
  },
  {
   "cell_type": "code",
   "execution_count": 19,
   "metadata": {},
   "outputs": [
    {
     "name": "stdout",
     "output_type": "stream",
     "text": [
      "[-1.14563707e-03  4.23720624e-05  1.53556052e-03  9.77310556e-04\n",
      "  2.79473454e-03  5.32313593e-04  2.13927846e-03 -1.30747048e-03\n",
      " -1.42185879e-03 -2.12488178e+00 -3.42207803e-02 -3.28948521e-02]\n",
      "0.012933397743197683\n"
     ]
    }
   ],
   "source": [
    "from sklearn.linear_model import LinearRegression\n",
    "# create a model to predict the real increase percent\n",
    "\n",
    "Y = data[\"REAL_INCREASE_PERCENT\"]\n",
    "X = data[[\"NEAR_DIST_Community_Garden\", \"NEAR_DIST_Cemetries_Burying\", \\\n",
    "    \"NEAR_DIST_Parks_Playground\", \"NEAR_DIST_Parkways_Beaches\", \\\n",
    "    \"NEAR_DIST_Mall_Squares\", \"NEAR_DIST_Farmers_Market\", \\\n",
    "    \"NEAR_DIST_Music_Venue\", \"NEAR_DIST_Landmark\", \\\n",
    "    \"NEAR_DIST_library\", \"MEAN_LTS_New\",\n",
    "    \"NOISE_INCIDENT_CNT\", \"RESTAURANT_CNT\"]]\n",
    "\n",
    "# create a model to predict the real increase percent\n",
    "model = LinearRegression()\n",
    "model.fit(X, Y)\n",
    "\n",
    "# check accuracy of the model\n",
    "model.score(X, Y)\n",
    "\n",
    "# print the coefficients\n",
    "print(model.coef_)\n",
    "\n",
    "# print the score\n",
    "print(model.score(X, Y))\n",
    "\n",
    "\n",
    "\n"
   ]
  },
  {
   "cell_type": "code",
   "execution_count": 20,
   "metadata": {},
   "outputs": [
    {
     "name": "stdout",
     "output_type": "stream",
     "text": [
      "NEAR_DIST_Community_Garden: -0.001145637065488641\n",
      "NEAR_DIST_Cemetries_Burying: 4.23720624231054e-05\n",
      "NEAR_DIST_Parks_Playground: 0.0015355605205921606\n",
      "NEAR_DIST_Parkways_Beaches: 0.0009773105561252282\n",
      "NEAR_DIST_Mall_Squares: 0.002794734538737669\n",
      "NEAR_DIST_Farmers_Market: 0.0005323135929657224\n",
      "NEAR_DIST_Music_Venue: 0.002139278459212453\n",
      "NEAR_DIST_Landmark: -0.0013074704845232829\n",
      "NEAR_DIST_library: -0.0014218587935334662\n",
      "MEAN_LTS_New: -2.124881775891251\n",
      "NOISE_INCIDENT_CNT: -0.03422078033508941\n",
      "RESTAURANT_CNT: -0.03289485206459571\n"
     ]
    }
   ],
   "source": [
    "coef = model.coef_\n",
    "\n",
    "# Based on the coef, assign the column names to the coef\n",
    "coef_dict = dict(zip(X.columns, coef))\n",
    "\n",
    "# print the coef_dict\n",
    "# print(coef_dict)\n",
    "\n",
    "for key, value in coef_dict.items():\n",
    "    print(f\"{key}: {value}\")\n",
    "\n",
    "\n",
    "\n",
    "\n",
    "\n"
   ]
  },
  {
   "cell_type": "code",
   "execution_count": null,
   "metadata": {},
   "outputs": [
    {
     "data": {
      "image/png": "[encoded data removed]",
      "text/plain": [
       "<Figure size 800x630 with 2 Axes>"
      ]
     },
     "metadata": {},
     "output_type": "display_data"
    }
   ],
   "source": [
    "# create a shap plot \n",
    "\n",
    "import shap\n",
    "\n",
    "# Create a SHAP explainer\n",
    "explainer = shap.Explainer(model, X)\n",
    "\n",
    "# Calculate SHAP values for the entire dataset\n",
    "shap_values = explainer(X)\n",
    "\n",
    "\n",
    "# Create a SHAP summary plot\n",
    "shap.summary_plot(shap_values, X)\n",
    "\n",
    "# Create a SHAP dependence plot for a specific feature\n",
    "# shap.dependence_plot(\"NEAR_DIST_Community_Garden\", shap_values, X)\n",
    "\n",
    "\n"
   ]
  },
  {
   "cell_type": "code",
   "execution_count": null,
   "metadata": {},
   "outputs": [],
   "source": []
  }
 ],
 "metadata": {
  "kernelspec": {
   "display_name": ".venv",
   "language": "python",
   "name": "python3"
  },
  "language_info": {
   "codemirror_mode": {
    "name": "ipython",
    "version": 3
   },
   "file_extension": ".py",
   "mimetype": "text/x-python",
   "name": "python",
   "nbconvert_exporter": "python",
   "pygments_lexer": "ipython3",
   "version": "3.11.5"
  }
 },
 "nbformat": 4,
 "nbformat_minor": 2
}
