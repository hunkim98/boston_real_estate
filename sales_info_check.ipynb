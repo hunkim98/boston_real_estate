{
 "cells": [
  {
   "cell_type": "code",
   "execution_count": 1,
   "metadata": {},
   "outputs": [],
   "source": [
    "import bs4 \n",
    "import requests\n",
    "import pandas as pd\n",
    "BASE_URL = \"https://www.cityofboston.gov/assessing/search/\""
   ]
  },
  {
   "cell_type": "code",
   "execution_count": 2,
   "metadata": {},
   "outputs": [
    {
     "name": "stdout",
     "output_type": "stream",
     "text": [
      "(3, 24)\n"
     ]
    },
    {
     "data": {
      "text/html": [
       "<div>\n",
       "<style scoped>\n",
       "    .dataframe tbody tr th:only-of-type {\n",
       "        vertical-align: middle;\n",
       "    }\n",
       "\n",
       "    .dataframe tbody tr th {\n",
       "        vertical-align: top;\n",
       "    }\n",
       "\n",
       "    .dataframe thead th {\n",
       "        text-align: right;\n",
       "    }\n",
       "</style>\n",
       "<table border=\"1\" class=\"dataframe\">\n",
       "  <thead>\n",
       "    <tr style=\"text-align: right;\">\n",
       "      <th></th>\n",
       "      <th>total_room_num</th>\n",
       "      <th>bedrooms</th>\n",
       "      <th>bathrooms</th>\n",
       "      <th>kitchens</th>\n",
       "      <th>interior_condition</th>\n",
       "      <th>parking_spots</th>\n",
       "      <th>year_built</th>\n",
       "      <th>exterior_condition</th>\n",
       "      <th>full_address</th>\n",
       "      <th>owner_name</th>\n",
       "      <th>owner_property_count</th>\n",
       "      <th>parcel</th>\n",
       "    </tr>\n",
       "  </thead>\n",
       "  <tbody>\n",
       "    <tr>\n",
       "      <th>322</th>\n",
       "      <td>NaN</td>\n",
       "      <td>NaN</td>\n",
       "      <td>NaN</td>\n",
       "      <td>NaN</td>\n",
       "      <td>NaN</td>\n",
       "      <td>NaN</td>\n",
       "      <td>NaN</td>\n",
       "      <td>NaN</td>\n",
       "      <td>NaN</td>\n",
       "      <td>NaN</td>\n",
       "      <td>NaN</td>\n",
       "      <td>18‐02004‐000</td>\n",
       "    </tr>\n",
       "    <tr>\n",
       "      <th>777</th>\n",
       "      <td>NaN</td>\n",
       "      <td>11.0</td>\n",
       "      <td>8.0</td>\n",
       "      <td>3.0</td>\n",
       "      <td>Good</td>\n",
       "      <td>14.0</td>\n",
       "      <td>1910</td>\n",
       "      <td>Average</td>\n",
       "      <td>20  PEARL ST BOSTON MA 02125</td>\n",
       "      <td>HUANG HUIFENG</td>\n",
       "      <td>1.0</td>\n",
       "      <td>13‐02102‐000</td>\n",
       "    </tr>\n",
       "    <tr>\n",
       "      <th>1049</th>\n",
       "      <td>NaN</td>\n",
       "      <td>NaN</td>\n",
       "      <td>NaN</td>\n",
       "      <td>NaN</td>\n",
       "      <td>NaN</td>\n",
       "      <td>NaN</td>\n",
       "      <td>NaN</td>\n",
       "      <td>NaN</td>\n",
       "      <td>NaN</td>\n",
       "      <td>NaN</td>\n",
       "      <td>NaN</td>\n",
       "      <td>01‐02776‐002</td>\n",
       "    </tr>\n",
       "  </tbody>\n",
       "</table>\n",
       "</div>"
      ],
      "text/plain": [
       "      total_room_num  bedrooms  bathrooms  kitchens interior_condition  \\\n",
       "322              NaN       NaN        NaN       NaN                NaN   \n",
       "777              NaN      11.0        8.0       3.0               Good   \n",
       "1049             NaN       NaN        NaN       NaN                NaN   \n",
       "\n",
       "      parking_spots year_built exterior_condition  \\\n",
       "322             NaN        NaN                NaN   \n",
       "777            14.0       1910            Average   \n",
       "1049            NaN        NaN                NaN   \n",
       "\n",
       "                      full_address     owner_name  owner_property_count  \\\n",
       "322                            NaN            NaN                   NaN   \n",
       "777   20  PEARL ST BOSTON MA 02125  HUANG HUIFENG                   1.0   \n",
       "1049                           NaN            NaN                   NaN   \n",
       "\n",
       "            parcel  \n",
       "322   18‐02004‐000  \n",
       "777   13‐02102‐000  \n",
       "1049  01‐02776‐002  "
      ]
     },
     "execution_count": 2,
     "metadata": {},
     "output_type": "execute_result"
    }
   ],
   "source": [
    "data = pd.read_csv(\"data/enriched_sales_data.csv\")\n",
    "\n",
    "# print rows that have None in any of the columns here\n",
    "#  \"total_room_num\": None,\n",
    "#             \"bedrooms\": None,\n",
    "#             \"bathrooms\": None,\n",
    "#             \"half_bathrooms\": None,\n",
    "#             \"kitchens\": None,\n",
    "#             \"fireplaces\": None,\n",
    "#             \"ac_type\": None,\n",
    "#             \"heat_type\": None,\n",
    "#             \"interior_condition\": None,\n",
    "#             \"parking_spots\": None,\n",
    "#             \"year_built\": None,\n",
    "#             \"exterior_condition\": None,\n",
    "#             \"foundation\": None,\n",
    "#             \"full_address\": None,\n",
    "#             \"owner_name\": None,\n",
    "#             \"owner_property_count\": None\n",
    "noted_cols = [\"total_room_num\",\\\n",
    "            \"bedrooms\",\\\n",
    "            \"bathrooms\",\\\n",
    "            # \"half_bathrooms\",\\\n",
    "            \"kitchens\",\\\n",
    "            # \"fireplaces\",\\\n",
    "            # \"ac_type\",\\\n",
    "            # \"heat_type\",\\\n",
    "            \"interior_condition\",\\\n",
    "            \"parking_spots\",\\\n",
    "            \"year_built\",\\\n",
    "            \"exterior_condition\",\\\n",
    "            # \"foundation\",\\\n",
    "            \"full_address\",\\\n",
    "            \"owner_name\",\\\n",
    "            \"owner_property_count\"]\n",
    "\n",
    "# get rows that have None in any of the columns\n",
    "# data[noted_cols].isna().any(axis=1)\n",
    "\n",
    "noted_cols.append(\"parcel\")\n",
    "# print rows that have None in any of the columns\n",
    "# print the dimension of the dataframe\n",
    "print(data[data[noted_cols].isna().any(axis=1)].shape)\n",
    "\n",
    "parcels_that_have_none = data[data[noted_cols].isna().any(axis=1)][\"parcel\"]\n",
    "data[data[noted_cols].isna().any(axis=1)][noted_cols]\n",
    "\n",
    "\n",
    "\n"
   ]
  },
  {
   "cell_type": "code",
   "execution_count": 3,
   "metadata": {},
   "outputs": [
    {
     "name": "stdout",
     "output_type": "stream",
     "text": [
      "322     18‐02004‐000\n",
      "777     13‐02102‐000\n",
      "1049    01‐02776‐002\n",
      "Name: parcel, dtype: object\n"
     ]
    }
   ],
   "source": [
    "print(parcels_that_have_none)"
   ]
  },
  {
   "cell_type": "code",
   "execution_count": 5,
   "metadata": {},
   "outputs": [
    {
     "name": "stdout",
     "output_type": "stream",
     "text": [
      "https://www.cityofboston.gov/assessing/search/?pid=18‐02004‐000\n",
      "https://www.cityofboston.gov/assessing/search/?pid=13‐02102‐000\n",
      "https://www.cityofboston.gov/assessing/search/?pid=01‐02776‐002\n"
     ]
    }
   ],
   "source": [
    "# update the parcels_that_have_none with correct info\n",
    "\n",
    "from crawl_sales_info import get_sales_info, process_basic_info\n",
    "\n",
    "new_df = data.copy()\n",
    "\n",
    "# update the dataframe \n",
    "for parcel in parcels_that_have_none:\n",
    "    soup = get_sales_info(parcel)\n",
    "    info = process_basic_info(soup, False)\n",
    "    # update info\n",
    "    new_df.loc[new_df[\"parcel\"] == parcel, noted_cols] = info\n",
    "\n",
    "# save the new dataframe\n",
    "new_df.to_csv(\"data/enriched_sales_data.csv\", index=False)\n",
    "\n"
   ]
  },
  {
   "cell_type": "code",
   "execution_count": 8,
   "metadata": {},
   "outputs": [
    {
     "name": "stdout",
     "output_type": "stream",
     "text": [
      "(3161,)\n"
     ]
    }
   ],
   "source": [
    "# check the new dataframe\n",
    "new_df[noted_cols].isna().any(axis=1)\n",
    "\n",
    "# print the dimension of the dataframe\n",
    "print(new_df[noted_cols].isna().any(axis=1).shape)\n",
    "\n"
   ]
  },
  {
   "cell_type": "code",
   "execution_count": null,
   "metadata": {},
   "outputs": [],
   "source": []
  }
 ],
 "metadata": {
  "kernelspec": {
   "display_name": ".venv",
   "language": "python",
   "name": "python3"
  },
  "language_info": {
   "codemirror_mode": {
    "name": "ipython",
    "version": 3
   },
   "file_extension": ".py",
   "mimetype": "text/x-python",
   "name": "python",
   "nbconvert_exporter": "python",
   "pygments_lexer": "ipython3",
   "version": "3.11.5"
  }
 },
 "nbformat": 4,
 "nbformat_minor": 2
}
